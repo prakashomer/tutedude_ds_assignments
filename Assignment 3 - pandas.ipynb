{
 "cells": [
  {
   "cell_type": "markdown",
   "id": "c9ca2fba-40c9-4d7a-9d95-4f47f1fca115",
   "metadata": {},
   "source": [
    "# Assignment 2 - Pandas"
   ]
  },
  {
   "cell_type": "markdown",
   "id": "b8c2b5af",
   "metadata": {},
   "source": [
    "## 1. Create a DataFrame"
   ]
  },
  {
   "cell_type": "code",
   "execution_count": null,
   "id": "d8b2f103",
   "metadata": {},
   "outputs": [],
   "source": [
    "\n",
    "import pandas as pd\n",
    "\n",
    "data = {\n",
    "    'Name': ['Alice', 'Bob', 'Charlie', 'Diana', 'Eve'],\n",
    "    'Age': [24, 27, 22, 32, 29],\n",
    "    'Department': ['HR', 'Finance', 'IT', 'Marketing', 'HR'],\n",
    "    'Salary': [45000, 54000, 50000, 62000, 47000]\n",
    "}\n",
    "\n",
    "df = pd.DataFrame(data)\n",
    "print(df)\n"
   ]
  },
  {
   "cell_type": "markdown",
   "id": "f02c39cf",
   "metadata": {},
   "source": [
    "### a. Print first five rows"
   ]
  },
  {
   "cell_type": "code",
   "execution_count": null,
   "id": "06f9584d",
   "metadata": {},
   "outputs": [],
   "source": [
    "print(df.head())"
   ]
  },
  {
   "cell_type": "markdown",
   "id": "3fd3eb9a",
   "metadata": {},
   "source": [
    "### b. Summary statistics of Age and Salary"
   ]
  },
  {
   "cell_type": "code",
   "execution_count": null,
   "id": "56a7aab3",
   "metadata": {},
   "outputs": [],
   "source": [
    "print(df[['Age','Salary']].describe())"
   ]
  },
  {
   "cell_type": "markdown",
   "id": "af27ad04",
   "metadata": {},
   "source": [
    "### c. Average salary of HR department"
   ]
  },
  {
   "cell_type": "code",
   "execution_count": null,
   "id": "fea55751",
   "metadata": {},
   "outputs": [],
   "source": [
    "print(df[df['Department']=='HR']['Salary'].mean())"
   ]
  },
  {
   "cell_type": "markdown",
   "id": "2b85c3d5",
   "metadata": {},
   "source": [
    "## 2. Add a Bonus column (10% of Salary)"
   ]
  },
  {
   "cell_type": "code",
   "execution_count": null,
   "id": "3320046c",
   "metadata": {},
   "outputs": [],
   "source": [
    "\n",
    "df['Bonus'] = df['Salary'] * 0.10\n",
    "print(df)\n"
   ]
  },
  {
   "cell_type": "markdown",
   "id": "abfb3cb2",
   "metadata": {},
   "source": [
    "## 3. Filter employees aged between 25 and 30"
   ]
  },
  {
   "cell_type": "code",
   "execution_count": null,
   "id": "005f095c",
   "metadata": {},
   "outputs": [],
   "source": [
    "print(df[(df['Age'] >= 25) & (df['Age'] <= 30)])"
   ]
  },
  {
   "cell_type": "markdown",
   "id": "0805924e",
   "metadata": {},
   "source": [
    "## 4. Group by Department and average salary"
   ]
  },
  {
   "cell_type": "code",
   "execution_count": null,
   "id": "0d1d9531",
   "metadata": {},
   "outputs": [],
   "source": [
    "print(df.groupby('Department')['Salary'].mean())"
   ]
  },
  {
   "cell_type": "markdown",
   "id": "bb60aba3",
   "metadata": {},
   "source": [
    "## 5. Sort by Salary and save to CSV"
   ]
  },
  {
   "cell_type": "code",
   "execution_count": null,
   "id": "b6007454",
   "metadata": {},
   "outputs": [],
   "source": [
    "\n",
    "sorted_df = df.sort_values(by='Salary', ascending=True)\n",
    "print(sorted_df)\n",
    "\n",
    "# Save to CSV\n",
    "sorted_df.to_csv(\"sorted_salaries.csv\", index=False)\n"
   ]
  }
 ],
 "metadata": {
  "kernelspec": {
   "display_name": "Python [conda env:base] *",
   "language": "python",
   "name": "conda-base-py"
  },
  "language_info": {
   "codemirror_mode": {
    "name": "ipython",
    "version": 3
   },
   "file_extension": ".py",
   "mimetype": "text/x-python",
   "name": "python",
   "nbconvert_exporter": "python",
   "pygments_lexer": "ipython3",
   "version": "3.13.5"
  }
 },
 "nbformat": 4,
 "nbformat_minor": 5
}
