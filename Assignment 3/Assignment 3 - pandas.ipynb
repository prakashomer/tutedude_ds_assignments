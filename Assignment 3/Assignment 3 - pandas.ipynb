{
 "cells": [
  {
   "cell_type": "markdown",
   "id": "c9ca2fba-40c9-4d7a-9d95-4f47f1fca115",
   "metadata": {},
   "source": [
    "# Assignment 2 - Pandas"
   ]
  },
  {
   "cell_type": "markdown",
   "id": "b8c2b5af",
   "metadata": {},
   "source": [
    "## 1. Create a DataFrame"
   ]
  },
  {
   "cell_type": "code",
   "execution_count": 9,
   "id": "d8b2f103",
   "metadata": {},
   "outputs": [
    {
     "name": "stdout",
     "output_type": "stream",
     "text": [
      "      Name  Age Department  Salary\n",
      "0    Alice   24         HR   45000\n",
      "1      Bob   27    Finance   54000\n",
      "2  Charlie   22         IT   50000\n",
      "3    Diana   32  Marketing   62000\n",
      "4      Eve   29         HR   47000\n"
     ]
    }
   ],
   "source": [
    "\n",
    "import pandas as pd\n",
    "\n",
    "data = {\n",
    "    'Name': ['Alice', 'Bob', 'Charlie', 'Diana', 'Eve'],\n",
    "    'Age': [24, 27, 22, 32, 29],\n",
    "    'Department': ['HR', 'Finance', 'IT', 'Marketing', 'HR'],\n",
    "    'Salary': [45000, 54000, 50000, 62000, 47000]\n",
    "}\n",
    "\n",
    "df = pd.DataFrame(data)\n",
    "print(df)\n"
   ]
  },
  {
   "cell_type": "markdown",
   "id": "f02c39cf",
   "metadata": {},
   "source": [
    "### a. Print first five rows"
   ]
  },
  {
   "cell_type": "code",
   "execution_count": 10,
   "id": "06f9584d",
   "metadata": {},
   "outputs": [
    {
     "name": "stdout",
     "output_type": "stream",
     "text": [
      "      Name  Age Department  Salary\n",
      "0    Alice   24         HR   45000\n",
      "1      Bob   27    Finance   54000\n",
      "2  Charlie   22         IT   50000\n",
      "3    Diana   32  Marketing   62000\n",
      "4      Eve   29         HR   47000\n"
     ]
    }
   ],
   "source": [
    "print(df.head())"
   ]
  },
  {
   "cell_type": "markdown",
   "id": "3fd3eb9a",
   "metadata": {},
   "source": [
    "### b. Summary statistics of Age and Salary"
   ]
  },
  {
   "cell_type": "code",
   "execution_count": 11,
   "id": "56a7aab3",
   "metadata": {},
   "outputs": [
    {
     "name": "stdout",
     "output_type": "stream",
     "text": [
      "             Age        Salary\n",
      "count   5.000000      5.000000\n",
      "mean   26.800000  51600.000000\n",
      "std     3.962323   6730.527468\n",
      "min    22.000000  45000.000000\n",
      "25%    24.000000  47000.000000\n",
      "50%    27.000000  50000.000000\n",
      "75%    29.000000  54000.000000\n",
      "max    32.000000  62000.000000\n"
     ]
    }
   ],
   "source": [
    "print(df[['Age','Salary']].describe())"
   ]
  },
  {
   "cell_type": "markdown",
   "id": "af27ad04",
   "metadata": {},
   "source": [
    "### c. Average salary of HR department"
   ]
  },
  {
   "cell_type": "code",
   "execution_count": 12,
   "id": "fea55751",
   "metadata": {},
   "outputs": [
    {
     "name": "stdout",
     "output_type": "stream",
     "text": [
      "46000.0\n"
     ]
    }
   ],
   "source": [
    "print(df[df['Department']=='HR']['Salary'].mean())"
   ]
  },
  {
   "cell_type": "markdown",
   "id": "2b85c3d5",
   "metadata": {},
   "source": [
    "## 2. Add a Bonus column (10% of Salary)"
   ]
  },
  {
   "cell_type": "code",
   "execution_count": 13,
   "id": "3320046c",
   "metadata": {},
   "outputs": [
    {
     "name": "stdout",
     "output_type": "stream",
     "text": [
      "      Name  Age Department  Salary   Bonus\n",
      "0    Alice   24         HR   45000  4500.0\n",
      "1      Bob   27    Finance   54000  5400.0\n",
      "2  Charlie   22         IT   50000  5000.0\n",
      "3    Diana   32  Marketing   62000  6200.0\n",
      "4      Eve   29         HR   47000  4700.0\n"
     ]
    }
   ],
   "source": [
    "\n",
    "df['Bonus'] = df['Salary'] * 0.10\n",
    "print(df)\n"
   ]
  },
  {
   "cell_type": "markdown",
   "id": "abfb3cb2",
   "metadata": {},
   "source": [
    "## 3. Filter employees aged between 25 and 30"
   ]
  },
  {
   "cell_type": "code",
   "execution_count": 14,
   "id": "005f095c",
   "metadata": {},
   "outputs": [
    {
     "name": "stdout",
     "output_type": "stream",
     "text": [
      "  Name  Age Department  Salary   Bonus\n",
      "1  Bob   27    Finance   54000  5400.0\n",
      "4  Eve   29         HR   47000  4700.0\n"
     ]
    }
   ],
   "source": [
    "print(df[(df['Age'] >= 25) & (df['Age'] <= 30)])"
   ]
  },
  {
   "cell_type": "markdown",
   "id": "0805924e",
   "metadata": {},
   "source": [
    "## 4. Group by Department and average salary"
   ]
  },
  {
   "cell_type": "code",
   "execution_count": 15,
   "id": "0d1d9531",
   "metadata": {},
   "outputs": [
    {
     "name": "stdout",
     "output_type": "stream",
     "text": [
      "Department\n",
      "Finance      54000.0\n",
      "HR           46000.0\n",
      "IT           50000.0\n",
      "Marketing    62000.0\n",
      "Name: Salary, dtype: float64\n"
     ]
    }
   ],
   "source": [
    "print(df.groupby('Department')['Salary'].mean())"
   ]
  },
  {
   "cell_type": "markdown",
   "id": "bb60aba3",
   "metadata": {},
   "source": [
    "## 5. Sort by Salary and save to CSV"
   ]
  },
  {
   "cell_type": "code",
   "execution_count": 16,
   "id": "b6007454",
   "metadata": {},
   "outputs": [
    {
     "name": "stdout",
     "output_type": "stream",
     "text": [
      "      Name  Age Department  Salary   Bonus\n",
      "0    Alice   24         HR   45000  4500.0\n",
      "4      Eve   29         HR   47000  4700.0\n",
      "2  Charlie   22         IT   50000  5000.0\n",
      "1      Bob   27    Finance   54000  5400.0\n",
      "3    Diana   32  Marketing   62000  6200.0\n"
     ]
    }
   ],
   "source": [
    "\n",
    "sorted_df = df.sort_values(by='Salary', ascending=True)\n",
    "print(sorted_df)\n",
    "\n",
    "# Save to CSV\n",
    "sorted_df.to_csv(\"sorted_salaries.csv\", index=False)\n"
   ]
  }
 ],
 "metadata": {
  "kernelspec": {
   "display_name": "Python 3",
   "language": "python",
   "name": "python3"
  },
  "language_info": {
   "codemirror_mode": {
    "name": "ipython",
    "version": 3
   },
   "file_extension": ".py",
   "mimetype": "text/x-python",
   "name": "python",
   "nbconvert_exporter": "python",
   "pygments_lexer": "ipython3",
   "version": "3.13.7"
  }
 },
 "nbformat": 4,
 "nbformat_minor": 5
}
