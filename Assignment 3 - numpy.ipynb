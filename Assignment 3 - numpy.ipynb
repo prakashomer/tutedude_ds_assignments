{
 "cells": [
  {
   "cell_type": "markdown",
   "id": "86017eef-98bf-4fe1-a67a-b01d1c8dd0fc",
   "metadata": {},
   "source": [
    "# Assignment 1 - NumPy"
   ]
  },
  {
   "cell_type": "markdown",
   "id": "a0a4b5f2",
   "metadata": {},
   "source": [
    "## 1. Create a 1D NumPy array with integers from 1 to 20"
   ]
  },
  {
   "cell_type": "code",
   "execution_count": null,
   "id": "38f23b30",
   "metadata": {},
   "outputs": [],
   "source": [
    "\n",
    "import numpy as np\n",
    "\n",
    "arr = np.arange(1, 21)\n",
    "print(\"Array:\", arr)\n",
    "\n",
    "# a. Sum, mean, median, std\n",
    "print(\"Sum:\", np.sum(arr))\n",
    "print(\"Mean:\", np.mean(arr))\n",
    "print(\"Median:\", np.median(arr))\n",
    "print(\"Standard Deviation:\", np.std(arr))\n",
    "\n",
    "# b. Indices of elements greater than 10\n",
    "indices = np.where(arr > 10)\n",
    "print(\"Indices of elements > 10:\", indices)\n"
   ]
  },
  {
   "cell_type": "markdown",
   "id": "fd770fc3",
   "metadata": {},
   "source": [
    "## 2. Create a 2D 4x4 NumPy array with numbers 1 to 16"
   ]
  },
  {
   "cell_type": "code",
   "execution_count": null,
   "id": "101dadaa",
   "metadata": {},
   "outputs": [],
   "source": [
    "\n",
    "arr2d = np.arange(1, 17).reshape(4, 4)\n",
    "print(\"Array:\\n\", arr2d)\n",
    "\n",
    "# Transpose\n",
    "print(\"Transpose:\\n\", arr2d.T)\n",
    "\n",
    "# Row-wise sums\n",
    "print(\"Row-wise sums:\", np.sum(arr2d, axis=1))\n",
    "\n",
    "# Column-wise sums\n",
    "print(\"Column-wise sums:\", np.sum(arr2d, axis=0))\n"
   ]
  },
  {
   "cell_type": "markdown",
   "id": "aa75214c",
   "metadata": {},
   "source": [
    "## 3. Create two random 3x3 arrays with integers 1 to 20"
   ]
  },
  {
   "cell_type": "code",
   "execution_count": null,
   "id": "7bc1114f",
   "metadata": {},
   "outputs": [],
   "source": [
    "\n",
    "a = np.random.randint(1, 21, (3, 3))\n",
    "b = np.random.randint(1, 21, (3, 3))\n",
    "\n",
    "print(\"Array A:\\n\", a)\n",
    "print(\"Array B:\\n\", b)\n",
    "\n",
    "print(\"Addition:\\n\", a + b)\n",
    "print(\"Subtraction:\\n\", a - b)\n",
    "print(\"Multiplication:\\n\", a * b)\n",
    "\n",
    "# Dot product\n",
    "print(\"Dot Product:\\n\", np.dot(a, b))\n"
   ]
  },
  {
   "cell_type": "markdown",
   "id": "b790858c",
   "metadata": {},
   "source": [
    "## 4. Reshape a 1D array of size 12 into 3x4 and slice first 2 rows, last 2 columns"
   ]
  },
  {
   "cell_type": "code",
   "execution_count": null,
   "id": "8d6c4dff",
   "metadata": {},
   "outputs": [],
   "source": [
    "\n",
    "arr12 = np.arange(1, 13)\n",
    "arr_reshaped = arr12.reshape(3, 4)\n",
    "print(\"Reshaped Array:\\n\", arr_reshaped)\n",
    "\n",
    "# Slice first 2 rows and last 2 columns\n",
    "print(\"Sliced:\\n\", arr_reshaped[:2, -2:])\n"
   ]
  }
 ],
 "metadata": {
  "kernelspec": {
   "display_name": "Python [conda env:base] *",
   "language": "python",
   "name": "conda-base-py"
  },
  "language_info": {
   "codemirror_mode": {
    "name": "ipython",
    "version": 3
   },
   "file_extension": ".py",
   "mimetype": "text/x-python",
   "name": "python",
   "nbconvert_exporter": "python",
   "pygments_lexer": "ipython3",
   "version": "3.13.5"
  }
 },
 "nbformat": 4,
 "nbformat_minor": 5
}
