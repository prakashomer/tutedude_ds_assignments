{
 "cells": [
  {
   "cell_type": "markdown",
   "id": "af62d6fd",
   "metadata": {},
   "source": [
    "# Neural Network from Scratch\n"
   ]
  },
  {
   "cell_type": "code",
   "execution_count": 3,
   "id": "cb149af6",
   "metadata": {},
   "outputs": [],
   "source": [
    "import numpy as np\n",
    "import matplotlib.pyplot as plt\n",
    "np.random.seed(42)"
   ]
  },
  {
   "cell_type": "code",
   "execution_count": 4,
   "id": "dc3b1633",
   "metadata": {},
   "outputs": [],
   "source": [
    "A = np.array([\n",
    "    [0,1,1,1,0],\n",
    "    [1,0,0,0,1],\n",
    "    [1,0,0,0,1],\n",
    "    [1,1,1,1,1],\n",
    "    [1,0,0,0,1],\n",
    "    [1,0,0,0,1],\n",
    "], dtype=np.float32)\n",
    "\n",
    "B = np.array([\n",
    "    [1,1,1,1,0],\n",
    "    [1,0,0,0,1],\n",
    "    [1,1,1,1,0],\n",
    "    [1,0,0,0,1],\n",
    "    [1,0,0,0,1],\n",
    "    [1,1,1,1,0],\n",
    "], dtype=np.float32)\n",
    "\n",
    "C = np.array([\n",
    "    [0,1,1,1,1],\n",
    "    [1,0,0,0,0],\n",
    "    [1,0,0,0,0],\n",
    "    [1,0,0,0,0],\n",
    "    [1,0,0,0,0],\n",
    "    [0,1,1,1,1],\n",
    "], dtype=np.float32)\n",
    "\n",
    "def img_to_vector(img):\n",
    "    return img.flatten()\n",
    "\n",
    "X_base = np.vstack([img_to_vector(A), img_to_vector(B), img_to_vector(C)])  \n",
    "y_base = np.array([0,1,2])"
   ]
  },
  {
   "cell_type": "code",
   "execution_count": 5,
   "id": "3d0e98da",
   "metadata": {},
   "outputs": [
    {
     "name": "stdout",
     "output_type": "stream",
     "text": [
      "Training set shape: (2160, 30) (2160,)\n"
     ]
    }
   ],
   "source": [
    "def augment_data(X, y, n_copies=100, flip_prob=0.03):\n",
    "    N, D = X.shape\n",
    "    X_aug, y_aug = [], []\n",
    "    for i in range(N):\n",
    "        for _ in range(n_copies):\n",
    "            vec = X[i].copy()\n",
    "            mask = np.random.rand(D) < flip_prob\n",
    "            vec[mask] = 1 - vec[mask]\n",
    "            X_aug.append(vec)\n",
    "            y_aug.append(y[i])\n",
    "    return np.vstack(X_aug), np.array(y_aug, dtype=int)\n",
    "\n",
    "X_aug, y_aug = augment_data(X_base, y_base, n_copies=700, flip_prob=0.03)\n",
    "X_train = np.vstack([X_aug, X_base.repeat(20, axis=0)])\n",
    "y_train = np.concatenate([y_aug, y_base.repeat(20)])\n",
    "\n",
    "print(\"Training set shape:\", X_train.shape, y_train.shape)"
   ]
  },
  {
   "cell_type": "code",
   "execution_count": 6,
   "id": "1ee813a0",
   "metadata": {},
   "outputs": [],
   "source": [
    "def sigmoid(z): return 1 / (1 + np.exp(-z))\n",
    "def sigmoid_deriv(a): return a * (1 - a)\n",
    "def softmax(z):\n",
    "    z = z - np.max(z, axis=1, keepdims=True)\n",
    "    e = np.exp(z)\n",
    "    return e / np.sum(e, axis=1, keepdims=True)\n",
    "def cross_entropy_loss(probs, labels_onehot):\n",
    "    N = probs.shape[0]\n",
    "    p = np.clip(probs, 1e-12, 1.0)\n",
    "    return -np.sum(labels_onehot * np.log(p)) / N\n",
    "def accuracy(probs, labels):\n",
    "    preds = np.argmax(probs, axis=1)\n",
    "    return np.mean(preds == labels)"
   ]
  },
  {
   "cell_type": "code",
   "execution_count": 7,
   "id": "de427c19",
   "metadata": {},
   "outputs": [],
   "source": [
    "input_dim, hidden_dim, output_dim = 30, 16, 3\n",
    "def xavier_init(in_dim, out_dim):\n",
    "    limit = np.sqrt(6 / (in_dim + out_dim))\n",
    "    return np.random.uniform(-limit, limit, size=(in_dim, out_dim)).astype(np.float32)\n",
    "\n",
    "W1 = xavier_init(input_dim, hidden_dim)\n",
    "b1 = np.zeros((1, hidden_dim), dtype=np.float32)\n",
    "W2 = xavier_init(hidden_dim, output_dim)\n",
    "b2 = np.zeros((1, output_dim), dtype=np.float32)"
   ]
  },
  {
   "cell_type": "code",
   "execution_count": 8,
   "id": "3b4b5fcf",
   "metadata": {},
   "outputs": [],
   "source": [
    "def to_onehot(y, C):\n",
    "    one = np.zeros((len(y), C), dtype=np.float32)\n",
    "    one[np.arange(len(y)), y] = 1.0\n",
    "    return one\n",
    "\n",
    "y_train_oh = to_onehot(y_train, output_dim)"
   ]
  },
  {
   "cell_type": "code",
   "execution_count": 9,
   "id": "dc230f24",
   "metadata": {},
   "outputs": [
    {
     "name": "stdout",
     "output_type": "stream",
     "text": [
      "Epoch    1  Loss: 0.4174  Acc: 100.00%\n",
      "Epoch  100  Loss: 0.0009  Acc: 100.00%\n",
      "Epoch  200  Loss: 0.0004  Acc: 100.00%\n",
      "Epoch  300  Loss: 0.0003  Acc: 100.00%\n",
      "Epoch  400  Loss: 0.0002  Acc: 100.00%\n",
      "Epoch  500  Loss: 0.0002  Acc: 100.00%\n",
      "Epoch  600  Loss: 0.0001  Acc: 100.00%\n",
      "Epoch  700  Loss: 0.0001  Acc: 100.00%\n",
      "Epoch  800  Loss: 0.0001  Acc: 100.00%\n",
      "Epoch  900  Loss: 0.0001  Acc: 100.00%\n",
      "Epoch 1000  Loss: 0.0001  Acc: 100.00%\n"
     ]
    }
   ],
   "source": [
    "lr, epochs, batch_size = 0.5, 1000, 128\n",
    "history = {\"loss\": [], \"acc\": []}\n",
    "N = X_train.shape[0]\n",
    "\n",
    "for epoch in range(1, epochs + 1):\n",
    "    perm = np.random.permutation(N)\n",
    "    X_train, y_train_oh, y_train = X_train[perm], y_train_oh[perm], y_train[perm]\n",
    "    \n",
    "    for i in range(0, N, batch_size):\n",
    "        X_batch, y_batch_oh = X_train[i:i+batch_size], y_train_oh[i:i+batch_size]\n",
    "        y_batch_labels = y_train[i:i+batch_size]\n",
    "        \n",
    "        z1 = X_batch.dot(W1) + b1\n",
    "        a1 = sigmoid(z1)\n",
    "        z2 = a1.dot(W2) + b2\n",
    "        probs = softmax(z2)\n",
    "\n",
    "        B = X_batch.shape[0]\n",
    "        dz2 = (probs - y_batch_oh) / B\n",
    "        dW2 = a1.T.dot(dz2)\n",
    "        db2 = np.sum(dz2, axis=0, keepdims=True)\n",
    "\n",
    "        da1 = dz2.dot(W2.T)\n",
    "        dz1 = da1 * sigmoid_deriv(a1)\n",
    "        dW1 = X_batch.T.dot(dz1)\n",
    "        db1 = np.sum(dz1, axis=0, keepdims=True)\n",
    "\n",
    "        W2 -= lr * dW2; b2 -= lr * db2\n",
    "        W1 -= lr * dW1; b1 -= lr * db1\n",
    "\n",
    "    z1_full = X_train.dot(W1) + b1\n",
    "    a1_full = sigmoid(z1_full)\n",
    "    z2_full = a1_full.dot(W2) + b2\n",
    "    probs_full = softmax(z2_full)\n",
    "    loss, acc = cross_entropy_loss(probs_full, y_train_oh), accuracy(probs_full, y_train)\n",
    "    history[\"loss\"].append(loss); history[\"acc\"].append(acc)\n",
    "    if epoch % 100 == 0 or epoch == 1:\n",
    "        print(f\"Epoch {epoch:4d}  Loss: {loss:.4f}  Acc: {acc*100:.2f}%\")"
   ]
  },
  {
   "cell_type": "code",
   "execution_count": 10,
   "id": "3fb6abfd",
   "metadata": {},
   "outputs": [
    {
     "data": {
      "image/png": "[encoded data removed]",
      "text/plain": [
       "<Figure size 1200x400 with 2 Axes>"
      ]
     },
     "metadata": {},
     "output_type": "display_data"
    }
   ],
   "source": [
    "plt.figure(figsize=(12,4))\n",
    "plt.subplot(1,2,1)\n",
    "plt.plot(history[\"loss\"]); plt.title(\"Training Loss\")\n",
    "plt.subplot(1,2,2)\n",
    "plt.plot(history[\"acc\"]); plt.title(\"Training Accuracy\"); plt.ylim(0,1)\n",
    "plt.show()"
   ]
  },
  {
   "cell_type": "code",
   "execution_count": 11,
   "id": "c6bd09fc",
   "metadata": {},
   "outputs": [
    {
     "name": "stdout",
     "output_type": "stream",
     "text": [
      "Predictions: [0 1 2]\n",
      "Probabilities:\n",
      " [[9.9996436e-01 1.6674130e-05 1.8976718e-05]\n",
      " [1.3919422e-05 9.9996161e-01 2.4451512e-05]\n",
      " [1.2902699e-05 1.7703996e-05 9.9996936e-01]]\n"
     ]
    },
    {
     "data": {
      "image/png": "[encoded data removed]",
      "text/plain": [
       "<Figure size 800x300 with 3 Axes>"
      ]
     },
     "metadata": {},
     "output_type": "display_data"
    }
   ],
   "source": [
    "def predict(X):\n",
    "    z1 = X.dot(W1) + b1\n",
    "    a1 = sigmoid(z1)\n",
    "    z2 = a1.dot(W2) + b2\n",
    "    return softmax(z2)\n",
    "\n",
    "test_X = X_base\n",
    "probs, preds = predict(test_X), np.argmax(predict(test_X), axis=1)\n",
    "print(\"Predictions:\", preds)\n",
    "print(\"Probabilities:\\n\", probs)\n",
    "\n",
    "labels = ['A','B','C']\n",
    "plt.figure(figsize=(8,3))\n",
    "for i in range(3):\n",
    "    plt.subplot(1,3,i+1)\n",
    "    plt.imshow(test_X[i].reshape(6,5), cmap='gray_r')\n",
    "    plt.title(f\"True: {labels[i]} Pred: {labels[preds[i]]}\")\n",
    "    plt.axis('off')\n",
    "plt.show()"
   ]
  }
 ],
 "metadata": {
  "kernelspec": {
   "display_name": "Python 3",
   "language": "python",
   "name": "python3"
  },
  "language_info": {
   "codemirror_mode": {
    "name": "ipython",
    "version": 3
   },
   "file_extension": ".py",
   "mimetype": "text/x-python",
   "name": "python",
   "nbconvert_exporter": "python",
   "pygments_lexer": "ipython3",
   "version": "3.13.7"
  }
 },
 "nbformat": 4,
 "nbformat_minor": 5
}
