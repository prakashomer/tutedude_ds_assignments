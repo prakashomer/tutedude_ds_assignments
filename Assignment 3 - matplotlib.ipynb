{
 "cells": [
  {
   "cell_type": "markdown",
   "id": "8c0ff843-172e-4725-9930-9fd668052d7e",
   "metadata": {},
   "source": [
    "# Assignment 3 - Matplotlib"
   ]
  },
  {
   "cell_type": "markdown",
   "id": "a321753d",
   "metadata": {},
   "source": [
    "## 1. Simple line plot"
   ]
  },
  {
   "cell_type": "code",
   "execution_count": null,
   "id": "52ce6aa2",
   "metadata": {},
   "outputs": [],
   "source": [
    "\n",
    "import matplotlib.pyplot as plt\n",
    "\n",
    "x = [1,2,3,4,5]\n",
    "y = [10,15,25,30,50]\n",
    "\n",
    "plt.plot(x,y, marker='o')\n",
    "plt.title(\"Line Plot Example\")\n",
    "plt.xlabel(\"X-axis\")\n",
    "plt.ylabel(\"Y-axis\")\n",
    "plt.grid(True)\n",
    "plt.show()\n"
   ]
  },
  {
   "cell_type": "markdown",
   "id": "ef0b4022",
   "metadata": {},
   "source": [
    "## 2. Bar Graph"
   ]
  },
  {
   "cell_type": "code",
   "execution_count": null,
   "id": "4a301679",
   "metadata": {},
   "outputs": [],
   "source": [
    "\n",
    "students = ['John','Jane','Alice','Bob']\n",
    "marks = [75,85,60,90]\n",
    "\n",
    "plt.bar(students, marks, color=['red','blue','green','orange'])\n",
    "plt.title(\"Student Marks\")\n",
    "plt.xlabel(\"Students\")\n",
    "plt.ylabel(\"Marks\")\n",
    "plt.show()\n"
   ]
  },
  {
   "cell_type": "markdown",
   "id": "ad0babf3",
   "metadata": {},
   "source": [
    "## 3. Pie Chart"
   ]
  },
  {
   "cell_type": "code",
   "execution_count": null,
   "id": "ed55f367",
   "metadata": {},
   "outputs": [],
   "source": [
    "\n",
    "regions = ['North America','Europe','Asia','Others']\n",
    "revenue = [45,25,20,10]\n",
    "\n",
    "explode = [0.1 if r == max(revenue) else 0 for r in revenue]\n",
    "\n",
    "plt.pie(revenue, labels=regions, autopct='%1.1f%%', explode=explode, startangle=140)\n",
    "plt.title(\"Revenue Distribution\")\n",
    "plt.show()\n"
   ]
  },
  {
   "cell_type": "markdown",
   "id": "4e0055ce",
   "metadata": {},
   "source": [
    "## 4. Histogram of Random Integers"
   ]
  },
  {
   "cell_type": "code",
   "execution_count": null,
   "id": "1c35afc9",
   "metadata": {},
   "outputs": [],
   "source": [
    "\n",
    "import numpy as np\n",
    "\n",
    "data = np.random.randint(1, 101, 1000)\n",
    "plt.hist(data, bins=20, color='purple', edgecolor='black')\n",
    "plt.title(\"Histogram of Random Integers (1-100)\")\n",
    "plt.xlabel(\"Value\")\n",
    "plt.ylabel(\"Frequency\")\n",
    "plt.show()\n"
   ]
  }
 ],
 "metadata": {
  "kernelspec": {
   "display_name": "Python [conda env:base] *",
   "language": "python",
   "name": "conda-base-py"
  },
  "language_info": {
   "codemirror_mode": {
    "name": "ipython",
    "version": 3
   },
   "file_extension": ".py",
   "mimetype": "text/x-python",
   "name": "python",
   "nbconvert_exporter": "python",
   "pygments_lexer": "ipython3",
   "version": "3.13.5"
  }
 },
 "nbformat": 4,
 "nbformat_minor": 5
}
